{
  "nbformat": 4,
  "nbformat_minor": 0,
  "metadata": {
    "colab": {
      "provenance": [],
      "include_colab_link": true
    },
    "kernelspec": {
      "name": "python3",
      "display_name": "Python 3"
    },
    "language_info": {
      "name": "python"
    }
  },
  "cells": [
    {
      "cell_type": "markdown",
      "metadata": {
        "id": "view-in-github",
        "colab_type": "text"
      },
      "source": [
        "<a href=\"https://colab.research.google.com/github/jooyoungkim415/Crawling-2023/blob/main/pdf/0908_Phone_Number.ipynb\" target=\"_parent\"><img src=\"https://colab.research.google.com/assets/colab-badge.svg\" alt=\"Open In Colab\"/></a>"
      ]
    },
    {
      "cell_type": "code",
      "execution_count": 72,
      "metadata": {
        "id": "4bSJGY_7Zphu"
      },
      "outputs": [],
      "source": [
        "import pandas as pd\n",
        "import re"
      ]
    },
    {
      "cell_type": "code",
      "source": [
        "df =pd.read_excel('phone-number.xlsx')"
      ],
      "metadata": {
        "id": "jjOTJTjfaMHX"
      },
      "execution_count": 73,
      "outputs": []
    },
    {
      "cell_type": "code",
      "source": [
        "# p = /^[0-9]{3}[-]+[0-9]{4}[-]+[0-9]{4}$/"
      ],
      "metadata": {
        "id": "XGCJLbUeawAH"
      },
      "execution_count": 74,
      "outputs": []
    },
    {
      "cell_type": "markdown",
      "source": [
        "  정규 필터식\t의미\n",
        "\n",
        "\n",
        "\n",
        "  \\w\t한 글자\n",
        "\n",
        "\n",
        "  \\w+\t한 단어\n",
        "\n",
        "  \\d\t정수 1자리\n",
        "\n",
        "  \\d+\t정수 전체\n",
        "\n",
        "  \\s\t공백 한칸\n",
        "\n",
        "  \\s+\t공백 전체\n",
        "\n",
        "  \\특수문자\t특수문자 구분"
      ],
      "metadata": {
        "id": "IUgpqquma4iG"
      }
    },
    {
      "cell_type": "code",
      "source": [
        "# p = '\\d{3}s?-?\\d{4}\\s?-?\\d{4}'"
      ],
      "metadata": {
        "id": "ZyH3WhMTbaSO"
      },
      "execution_count": 75,
      "outputs": []
    },
    {
      "cell_type": "code",
      "source": [
        "phone_num = []"
      ],
      "metadata": {
        "id": "xWic40SwgYSK"
      },
      "execution_count": 76,
      "outputs": []
    },
    {
      "cell_type": "code",
      "source": [
        "for index, row in df.iterrows():\n",
        "  list_index = df.iloc[index].tolist()\n",
        "  for i in list_index:\n",
        "    # print(i, type(i))\n",
        "    if type(i) is str:\n",
        "      # print('Yes: {0}'.format(i))\n",
        "      m = re.match(pattern=p, string=i)\n",
        "      if m:\n",
        "        print(\"나 전화번호야!!!: {0}\\n\".format(i))\n",
        "        phone_num.append(i)"
      ],
      "metadata": {
        "id": "3CfD7FMdb_Ki",
        "outputId": "acec60f9-a55a-4b96-82b6-cbd8cb3406f7",
        "colab": {
          "base_uri": "https://localhost:8080/"
        }
      },
      "execution_count": 77,
      "outputs": [
        {
          "output_type": "stream",
          "name": "stdout",
          "text": [
            "나 전화번호야!!!: 010-2171-9900\n",
            "\n",
            "나 전화번호야!!!: 010-2171-9900\n",
            "\n",
            "나 전화번호야!!!: 010-2171-9900\n",
            "\n",
            "나 전화번호야!!!: 010-2171-9900\n",
            "\n"
          ]
        }
      ]
    },
    {
      "cell_type": "code",
      "source": [
        "phone_num"
      ],
      "metadata": {
        "id": "vrElmSMYgiLB",
        "outputId": "0436a65f-57b7-4ec8-ea54-986cc5e9fe95",
        "colab": {
          "base_uri": "https://localhost:8080/"
        }
      },
      "execution_count": 78,
      "outputs": [
        {
          "output_type": "execute_result",
          "data": {
            "text/plain": [
              "['010-2171-9900', '010-2171-9900', '010-2171-9900', '010-2171-9900']"
            ]
          },
          "metadata": {},
          "execution_count": 78
        }
      ]
    },
    {
      "cell_type": "code",
      "source": [
        "set_num = set(phone_num)"
      ],
      "metadata": {
        "id": "g9OO1my-gypf"
      },
      "execution_count": 79,
      "outputs": []
    },
    {
      "cell_type": "code",
      "source": [
        "set_num"
      ],
      "metadata": {
        "id": "vSgAXwKLhOGO",
        "outputId": "a0451620-f021-4d6a-ce62-19a96d66476c",
        "colab": {
          "base_uri": "https://localhost:8080/"
        }
      },
      "execution_count": 80,
      "outputs": [
        {
          "output_type": "execute_result",
          "data": {
            "text/plain": [
              "{'010-2171-9900'}"
            ]
          },
          "metadata": {},
          "execution_count": 80
        }
      ]
    },
    {
      "cell_type": "code",
      "source": [
        "phone_num = list(set_num)"
      ],
      "metadata": {
        "id": "bHnjjxuzhbD_"
      },
      "execution_count": 81,
      "outputs": []
    },
    {
      "cell_type": "code",
      "source": [
        "phone_num"
      ],
      "metadata": {
        "id": "cLXf9Wrzhg82",
        "outputId": "acd1b97a-fc93-46e6-f62a-f45a87717d77",
        "colab": {
          "base_uri": "https://localhost:8080/"
        }
      },
      "execution_count": 82,
      "outputs": [
        {
          "output_type": "execute_result",
          "data": {
            "text/plain": [
              "['010-2171-9900']"
            ]
          },
          "metadata": {},
          "execution_count": 82
        }
      ]
    },
    {
      "cell_type": "code",
      "source": [
        "import re\n",
        "\n",
        "# Regex pattern to match IPv4 addresses\n",
        "pattern = r\"\\b((25[0-5]|2[0-4][0-9]|[01]?[0-9][0-9]?)(\\.|$)){4}\"\n",
        "string = \"My computer has the IP address 192.168.1.1.\"\n",
        "\n",
        "# Find all matches in the string\n",
        "matches = re.findall(pattern, string)\n",
        "\n",
        "# Print the full match for each match found\n",
        "for match in matches:\n",
        "    print(match[0][0])"
      ],
      "metadata": {
        "id": "EUX0WOWghkAE",
        "outputId": "51101d9e-dd11-49d7-be5b-4d72e0fdf236",
        "colab": {
          "base_uri": "https://localhost:8080/"
        }
      },
      "execution_count": 83,
      "outputs": [
        {
          "output_type": "stream",
          "name": "stdout",
          "text": [
            "1\n"
          ]
        }
      ]
    },
    {
      "cell_type": "code",
      "source": [],
      "metadata": {
        "id": "7m9caNKQdPLq"
      },
      "execution_count": 83,
      "outputs": []
    }
  ]
}